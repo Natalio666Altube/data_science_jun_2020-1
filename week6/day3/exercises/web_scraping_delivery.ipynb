{
 "cells": [
  {
   "cell_type": "markdown",
   "metadata": {},
   "source": [
    "### 1. From HTML\n",
    "\n",
    "*Using only beautiful soap*\n",
    "\n",
    "Save in a dataframe the next information using web scraping. Each row of the dataframe must have in different columns:\n",
    "\n",
    "- The name of the title\n",
    "- The id of the div where is the value scraped. If there is not id, then the value is must be numpy.nan\n",
    "- The name of the tag where is the value scraped.\n",
    "- The next scraped values in different rows: \n",
    "    - The value: \"Este es el segundo párrafo\"  --> Row 1\n",
    "    - The url https://pagina1.xyz/ --> Row 2\n",
    "    - The url https://pagina4.xyz/ --> Row 3\n",
    "    - The url https://pagina5.xyz/ --> Row 4\n",
    "    - The value \"links footer-links\" --> Row 5\n",
    "    - The value \"Este párrafo está en el footer\" --> Row 6"
   ]
  },
  {
   "cell_type": "code",
   "execution_count": 5,
   "metadata": {},
   "outputs": [],
   "source": [
    "import requests\n",
    "from bs4 import BeautifulSoup\n",
    "import pandas as pd"
   ]
  },
  {
   "cell_type": "code",
   "execution_count": null,
   "metadata": {},
   "outputs": [],
   "source": [
    "Hacer cambio para git"
   ]
  },
  {
   "cell_type": "code",
   "execution_count": 6,
   "metadata": {},
   "outputs": [],
   "source": [
    "html = \"\"\"<html lang=\"es\">\n",
    "<head>\n",
    "    <meta charset=\"UTF-8\">\n",
    "    <title>Página de prueba</title>\n",
    "</head>\n",
    "<body>\n",
    "<div id=\"main\" class=\"full-width\">\n",
    "    <h1>El título de la página</h1>\n",
    "    <p>Este es el primer párrafo</p>\n",
    "    <p>Este es el segundo párrafo</p>\n",
    "    <div id=\"innerDiv\">\n",
    "        <div class=\"links\">\n",
    "            <a href=\"https://pagina1.xyz/\">Enlace 1</a>\n",
    "            <a href=\"https://pagina2.xyz/\">Enlace 2</a>\n",
    "        </div>\n",
    "        <div class=\"right\">\n",
    "            <div class=\"links\">\n",
    "                <a href=\"https://pagina3.xyz/\">Enlace 3</a>\n",
    "                <a href=\"https://pagina4.xyz/\">Enlace 4</a>\n",
    "            </div>\n",
    "        </div>\n",
    "    </div>\n",
    "    <div id=\"footer\">\n",
    "        <!-- El footer -->\n",
    "        <p>Este párrafo está en el footer</p>\n",
    "        <div class=\"links footer-links\">\n",
    "            <a href=\"https://pagina5.xyz/\">Enlace 5</a>\n",
    "        </div>\n",
    "    </div>\n",
    "</div>\n",
    "</body>\n",
    "</html>\"\"\""
   ]
  },
  {
   "cell_type": "code",
   "execution_count": 7,
   "metadata": {},
   "outputs": [
    {
     "output_type": "execute_result",
     "data": {
      "text/plain": "['main', 'innerDiv', 'footer']"
     },
     "metadata": {},
     "execution_count": 7
    }
   ],
   "source": [
    "import re\n",
    "import bs4\n",
    "\n",
    "soup = bs4.BeautifulSoup(html)\n",
    "\n",
    "x = [re.search('\"\\w+\"', e).group()[1:-1] for e in re.findall(\"id=.*\",str(soup.contents[0]))]\n",
    "\n",
    "x"
   ]
  },
  {
   "cell_type": "code",
   "execution_count": 8,
   "metadata": {},
   "outputs": [
    {
     "output_type": "execute_result",
     "data": {
      "text/plain": "bs4.element.Tag"
     },
     "metadata": {},
     "execution_count": 8
    }
   ],
   "source": [
    "type(soup.contents[0])"
   ]
  },
  {
   "cell_type": "code",
   "execution_count": 9,
   "metadata": {},
   "outputs": [
    {
     "output_type": "execute_result",
     "data": {
      "text/plain": "['id=\"main\">', 'id=\"innerDiv\">', 'id=\"footer\">']"
     },
     "metadata": {},
     "execution_count": 9
    }
   ],
   "source": [
    "lista = re.findall(\"id=.*\",str(soup.contents[0]))\n",
    "lista"
   ]
  },
  {
   "cell_type": "code",
   "execution_count": 10,
   "metadata": {
    "tags": []
   },
   "outputs": [
    {
     "output_type": "stream",
     "name": "stdout",
     "text": "main\ninnerDiv\nfooter\n"
    }
   ],
   "source": [
    "for e in lista:\n",
    "    print(re.search('\"\\w+\"', e).group()[1:-1])"
   ]
  },
  {
   "cell_type": "code",
   "execution_count": 11,
   "metadata": {},
   "outputs": [
    {
     "output_type": "execute_result",
     "data": {
      "text/plain": "'id=\"main\">'"
     },
     "metadata": {},
     "execution_count": 11
    }
   ],
   "source": [
    "main = lista[0] #columna 2\n",
    "main"
   ]
  },
  {
   "cell_type": "code",
   "execution_count": 12,
   "metadata": {},
   "outputs": [
    {
     "output_type": "execute_result",
     "data": {
      "text/plain": "'id=\"innerDiv\">'"
     },
     "metadata": {},
     "execution_count": 12
    }
   ],
   "source": [
    "innerd = lista[1]\n",
    "innerd"
   ]
  },
  {
   "cell_type": "code",
   "execution_count": 13,
   "metadata": {},
   "outputs": [
    {
     "output_type": "execute_result",
     "data": {
      "text/plain": "'id=\"footer\">'"
     },
     "metadata": {},
     "execution_count": 13
    }
   ],
   "source": [
    "foo = lista[2]\n",
    "foo"
   ]
  },
  {
   "cell_type": "code",
   "execution_count": 14,
   "metadata": {
    "tags": []
   },
   "outputs": [
    {
     "output_type": "stream",
     "name": "stdout",
     "text": "Página de prueba\n\n\n\nEl título de la página\nEste es el primer párrafo\nEste es el segundo párrafo\n\n\nEnlace 1\nEnlace 2\n\n\n\nEnlace 3\nEnlace 4\n\n\n\n\n\nEste párrafo está en el footer\n\nEnlace 5\n\n"
    }
   ],
   "source": [
    "def show_html(html_str):\n",
    "    print(BeautifulSoup(str(html_str),'html.parser').prettify())\n",
    "\n",
    "soup = BeautifulSoup(html, 'html.parser')    \n",
    "show_html(soup.text)\n"
   ]
  },
  {
   "cell_type": "code",
   "execution_count": 15,
   "metadata": {
    "tags": []
   },
   "outputs": [
    {
     "output_type": "stream",
     "name": "stdout",
     "text": "<title>\n Página de prueba\n</title>\n"
    },
    {
     "output_type": "execute_result",
     "data": {
      "text/plain": "'Página de prueba'"
     },
     "metadata": {},
     "execution_count": 15
    }
   ],
   "source": [
    "html_name_list = soup.find('title') #Columna 1\n",
    "show_html(str(html_name_list))\n",
    "titulo = soup.title.string\n",
    "titulo "
   ]
  },
  {
   "cell_type": "code",
   "execution_count": 16,
   "metadata": {
    "tags": []
   },
   "outputs": [
    {
     "output_type": "stream",
     "name": "stdout",
     "text": "[\n<p>\n Este es el primer párrafo\n</p>\n,\n<p>\n Este es el segundo párrafo\n</p>\n,\n<p>\n Este párrafo está en el footer\n</p>\n]\n\n"
    }
   ],
   "source": [
    "html_name_list_items = soup.find_all('p') \n",
    "show_html(html_name_list_items)"
   ]
  },
  {
   "cell_type": "code",
   "execution_count": 17,
   "metadata": {},
   "outputs": [
    {
     "output_type": "execute_result",
     "data": {
      "text/plain": "'Este es el primer párrafo'"
     },
     "metadata": {},
     "execution_count": 17
    }
   ],
   "source": [
    "primero = soup.findAll('p')[0].text\n",
    "primero"
   ]
  },
  {
   "cell_type": "code",
   "execution_count": 18,
   "metadata": {},
   "outputs": [
    {
     "output_type": "execute_result",
     "data": {
      "text/plain": "'Este es el segundo párrafo'"
     },
     "metadata": {},
     "execution_count": 18
    }
   ],
   "source": [
    "segundo = soup.findAll('p')[1].text\n",
    "segundo"
   ]
  },
  {
   "cell_type": "code",
   "execution_count": 19,
   "metadata": {
    "tags": []
   },
   "outputs": [
    {
     "output_type": "execute_result",
     "data": {
      "text/plain": "'Este párrafo está en el footer'"
     },
     "metadata": {},
     "execution_count": 19
    }
   ],
   "source": [
    "footer = soup.findAll('p')[2].text\n",
    "footer"
   ]
  },
  {
   "cell_type": "code",
   "execution_count": 20,
   "metadata": {
    "tags": []
   },
   "outputs": [
    {
     "output_type": "stream",
     "name": "stdout",
     "text": "[\n<a href=\"https://pagina1.xyz/\">\n Enlace 1\n</a>\n,\n<a href=\"https://pagina2.xyz/\">\n Enlace 2\n</a>\n,\n<a href=\"https://pagina3.xyz/\">\n Enlace 3\n</a>\n,\n<a href=\"https://pagina4.xyz/\">\n Enlace 4\n</a>\n,\n<a href=\"https://pagina5.xyz/\">\n Enlace 5\n</a>\n]\n\n"
    }
   ],
   "source": [
    "html_name_list_items1 = soup.find_all('a') \n",
    "show_html(html_name_list_items1)"
   ]
  },
  {
   "cell_type": "code",
   "execution_count": 21,
   "metadata": {
    "tags": []
   },
   "outputs": [
    {
     "output_type": "stream",
     "name": "stdout",
     "text": "https://pagina1.xyz/\nhttps://pagina2.xyz/\nhttps://pagina3.xyz/\nhttps://pagina4.xyz/\nhttps://pagina5.xyz/\n"
    }
   ],
   "source": [
    "list3 = []\n",
    "for link in soup.find_all('a'):\n",
    "    print(link.get('href'))\n",
    "    list3.append(link.get(\"href\"))\n"
   ]
  },
  {
   "cell_type": "code",
   "execution_count": 22,
   "metadata": {},
   "outputs": [
    {
     "output_type": "execute_result",
     "data": {
      "text/plain": "'https://pagina1.xyz/'"
     },
     "metadata": {},
     "execution_count": 22
    }
   ],
   "source": [
    "url1 =list3[0]\n",
    "url1"
   ]
  },
  {
   "cell_type": "code",
   "execution_count": 23,
   "metadata": {},
   "outputs": [
    {
     "output_type": "execute_result",
     "data": {
      "text/plain": "'https://pagina2.xyz/'"
     },
     "metadata": {},
     "execution_count": 23
    }
   ],
   "source": [
    "url2 =list3[1]\n",
    "url2"
   ]
  },
  {
   "cell_type": "code",
   "execution_count": 24,
   "metadata": {},
   "outputs": [
    {
     "output_type": "execute_result",
     "data": {
      "text/plain": "'https://pagina3.xyz/'"
     },
     "metadata": {},
     "execution_count": 24
    }
   ],
   "source": [
    "url3 =list3[2]\n",
    "url3"
   ]
  },
  {
   "cell_type": "code",
   "execution_count": 25,
   "metadata": {},
   "outputs": [
    {
     "output_type": "execute_result",
     "data": {
      "text/plain": "'https://pagina4.xyz/'"
     },
     "metadata": {},
     "execution_count": 25
    }
   ],
   "source": [
    "url4 = list3[3]\n",
    "url4"
   ]
  },
  {
   "cell_type": "code",
   "execution_count": 26,
   "metadata": {},
   "outputs": [
    {
     "output_type": "execute_result",
     "data": {
      "text/plain": "'https://pagina5.xyz/'"
     },
     "metadata": {},
     "execution_count": 26
    }
   ],
   "source": [
    "url5 = list3[4]\n",
    "url5"
   ]
  },
  {
   "cell_type": "code",
   "execution_count": 27,
   "metadata": {
    "tags": []
   },
   "outputs": [],
   "source": [
    "tag = ['p','p','p','a','a','a','a','a']\n"
   ]
  },
  {
   "cell_type": "code",
   "execution_count": 28,
   "metadata": {
    "tags": []
   },
   "outputs": [
    {
     "output_type": "execute_result",
     "data": {
      "text/plain": "'links footer-links'"
     },
     "metadata": {},
     "execution_count": 28
    }
   ],
   "source": [
    "lista = re.findall(\"class=.*\",str(soup.contents[0]))\n",
    "Link_F = lista[4]\n",
    "Link_F = Link_F[7:-2]\n",
    "# print(lista)\n",
    "Link_F\n",
    "\n",
    "\n",
    "\n",
    "\n",
    "\n"
   ]
  },
  {
   "cell_type": "code",
   "execution_count": 29,
   "metadata": {
    "tags": []
   },
   "outputs": [
    {
     "output_type": "stream",
     "name": "stdout",
     "text": "p\np\np\n"
    }
   ],
   "source": [
    "listatags = []\n",
    "for tag in soup.find_all(re.compile(\"p\")):\n",
    "    print(tag.name)\n",
    "    listatags.append(\"p\")"
   ]
  },
  {
   "cell_type": "code",
   "execution_count": 30,
   "metadata": {},
   "outputs": [
    {
     "output_type": "execute_result",
     "data": {
      "text/plain": "['p', 'p', 'p']"
     },
     "metadata": {},
     "execution_count": 30
    }
   ],
   "source": [
    "listatags"
   ]
  },
  {
   "cell_type": "code",
   "execution_count": 31,
   "metadata": {},
   "outputs": [
    {
     "output_type": "execute_result",
     "data": {
      "text/plain": "'p'"
     },
     "metadata": {},
     "execution_count": 31
    }
   ],
   "source": [
    "tag1 = listatags[0]\n",
    "tag1"
   ]
  },
  {
   "cell_type": "code",
   "execution_count": 32,
   "metadata": {},
   "outputs": [
    {
     "output_type": "execute_result",
     "data": {
      "text/plain": "'p'"
     },
     "metadata": {},
     "execution_count": 32
    }
   ],
   "source": [
    "tag2 = listatags[1]\n",
    "tag2"
   ]
  },
  {
   "cell_type": "code",
   "execution_count": 33,
   "metadata": {},
   "outputs": [
    {
     "output_type": "execute_result",
     "data": {
      "text/plain": "'p'"
     },
     "metadata": {},
     "execution_count": 33
    }
   ],
   "source": [
    "tag3 = listatags[1]\n",
    "tag3"
   ]
  },
  {
   "cell_type": "code",
   "execution_count": 34,
   "metadata": {
    "tags": []
   },
   "outputs": [
    {
     "output_type": "stream",
     "name": "stdout",
     "text": "a\na\na\na\na\n"
    }
   ],
   "source": [
    "listatags1 = []\n",
    "for tag in soup.find_all(\"a\"):\n",
    "    print(tag.name)\n",
    "    listatags1.append(\"a\")"
   ]
  },
  {
   "cell_type": "code",
   "execution_count": 35,
   "metadata": {},
   "outputs": [
    {
     "output_type": "execute_result",
     "data": {
      "text/plain": "['a', 'a', 'a', 'a', 'a']"
     },
     "metadata": {},
     "execution_count": 35
    }
   ],
   "source": [
    "listatags1"
   ]
  },
  {
   "cell_type": "code",
   "execution_count": 37,
   "metadata": {},
   "outputs": [
    {
     "output_type": "execute_result",
     "data": {
      "text/plain": "'a'"
     },
     "metadata": {},
     "execution_count": 37
    }
   ],
   "source": [
    "tag11 = listatags1[0]\n",
    "tag11"
   ]
  },
  {
   "cell_type": "code",
   "execution_count": 39,
   "metadata": {},
   "outputs": [
    {
     "output_type": "execute_result",
     "data": {
      "text/plain": "'a'"
     },
     "metadata": {},
     "execution_count": 39
    }
   ],
   "source": [
    "tag22 = listatags1[1]\n",
    "tag22"
   ]
  },
  {
   "cell_type": "code",
   "execution_count": 40,
   "metadata": {},
   "outputs": [
    {
     "output_type": "execute_result",
     "data": {
      "text/plain": "'a'"
     },
     "metadata": {},
     "execution_count": 40
    }
   ],
   "source": [
    "tag33 = listatags1[2]\n",
    "tag33"
   ]
  },
  {
   "cell_type": "code",
   "execution_count": 43,
   "metadata": {},
   "outputs": [
    {
     "output_type": "execute_result",
     "data": {
      "text/plain": "'a'"
     },
     "metadata": {},
     "execution_count": 43
    }
   ],
   "source": [
    "tag44 = listatags1[3]\n",
    "tag44"
   ]
  },
  {
   "cell_type": "code",
   "execution_count": 44,
   "metadata": {},
   "outputs": [
    {
     "output_type": "execute_result",
     "data": {
      "text/plain": "              Title                          Values        DIV_ID TAGS\n0  Página de prueba      Este es el segundo párrafo    id=\"main\">    p\n1  Página de prueba            https://pagina1.xyz/           NaN    a\n2  Página de prueba            https://pagina4.xyz/           NaN    a\n3  Página de prueba            https://pagina5.xyz/           NaN    a\n4  Página de prueba              links footer-links           NaN    a\n5  Página de prueba  Este párrafo está en el footer  id=\"footer\">    p",
      "text/html": "<div>\n<style scoped>\n    .dataframe tbody tr th:only-of-type {\n        vertical-align: middle;\n    }\n\n    .dataframe tbody tr th {\n        vertical-align: top;\n    }\n\n    .dataframe thead th {\n        text-align: right;\n    }\n</style>\n<table border=\"1\" class=\"dataframe\">\n  <thead>\n    <tr style=\"text-align: right;\">\n      <th></th>\n      <th>Title</th>\n      <th>Values</th>\n      <th>DIV_ID</th>\n      <th>TAGS</th>\n    </tr>\n  </thead>\n  <tbody>\n    <tr>\n      <th>0</th>\n      <td>Página de prueba</td>\n      <td>Este es el segundo párrafo</td>\n      <td>id=\"main\"&gt;</td>\n      <td>p</td>\n    </tr>\n    <tr>\n      <th>1</th>\n      <td>Página de prueba</td>\n      <td>https://pagina1.xyz/</td>\n      <td>NaN</td>\n      <td>a</td>\n    </tr>\n    <tr>\n      <th>2</th>\n      <td>Página de prueba</td>\n      <td>https://pagina4.xyz/</td>\n      <td>NaN</td>\n      <td>a</td>\n    </tr>\n    <tr>\n      <th>3</th>\n      <td>Página de prueba</td>\n      <td>https://pagina5.xyz/</td>\n      <td>NaN</td>\n      <td>a</td>\n    </tr>\n    <tr>\n      <th>4</th>\n      <td>Página de prueba</td>\n      <td>links footer-links</td>\n      <td>NaN</td>\n      <td>a</td>\n    </tr>\n    <tr>\n      <th>5</th>\n      <td>Página de prueba</td>\n      <td>Este párrafo está en el footer</td>\n      <td>id=\"footer\"&gt;</td>\n      <td>p</td>\n    </tr>\n  </tbody>\n</table>\n</div>"
     },
     "metadata": {},
     "execution_count": 44
    }
   ],
   "source": [
    "data = {'Title':  [titulo, titulo,titulo,titulo, titulo, titulo],\n",
    "        'Values': [segundo,url1,url4,url5,Link_F,footer],\n",
    "        'DIV_ID': [main, 'NaN','NaN','NaN','NaN',foo],\n",
    "        'TAGS':[tag1,tag11, tag22, tag33, tag44,tag2]}\n",
    "\n",
    "df = pd.DataFrame(data)   \n",
    "df\n"
   ]
  },
  {
   "cell_type": "code",
   "execution_count": null,
   "metadata": {},
   "outputs": [],
   "source": [
    "'Values': [segundo,url1,url4,url5,Link_F,footer]\n",
    "'DIV_ID': [main, 'NaN','NaN','NaN','NaN',foo]"
   ]
  },
  {
   "cell_type": "markdown",
   "metadata": {},
   "source": [
    "### 2. From Amazon\n",
    "\n",
    "*Using  beautiful soap and/or regex*\n",
    "\n",
    "Save in a dataframe the next information using web scraping. Using product pages from Amazon, do the following: \n",
    "\n",
    "- Get the product name from the web and save it in a column called \"item_name\"\n",
    "- Get the price from the web and save it in a column called \"item_price\"\n",
    "\n",
    "While you are doing the exercise, document the steps you are doing. Try to do the program for generic pages. If you cannot do it generic, explain the reasons. \n",
    "\n",
    "-------------------------------\n",
    "\n",
    "**Example:** \n",
    "\n",
    "url = https://www.amazon.es/Tommy-Hilfiger-UM0UM00054-Camiseta-Hombre/dp/B01MYD0T1F/ref=sr_1_1?dchild=1&pf_rd_p=58224bec-cac9-4dd2-a42a-61b1db609c2d&pf_rd_r=VZQ1JTQXFVRZ9E9VSKX4&qid=1595364419&s=apparel&sr=1-1\n",
    "\n",
    "*item_name* --> \"Tommy Hilfiger Logo Camiseta de Cuello Redondo,Perfecta para El Tiempo Libre para Hombre\"\n",
    "\n",
    "*item_price* --> [[18,99 € - 46,59 €]] or one of the options.\n",
    "\n",
    "\n"
   ]
  },
  {
   "cell_type": "code",
   "execution_count": 2,
   "metadata": {
    "tags": []
   },
   "outputs": [
    {
     "output_type": "stream",
     "name": "stdout",
     "text": "200\n"
    }
   ],
   "source": [
    "import requests\n",
    "from bs4 import BeautifulSoup\n",
    "import pandas as pd\n",
    "import urlopen\n",
    "from scrapy.selector import Selector"
   ]
  },
  {
   "cell_type": "code",
   "execution_count": 248,
   "metadata": {
    "tags": [
     "outputPrepend"
    ]
   },
   "outputs": [
    {
     "output_type": "stream",
     "name": "stdout",
     "text": " \n\n\n\n4,6 de un máximo de 5 estrellas\n\n166\n\n28,85 € - 39,95 € \n\n\n\n\n\n            Tommy Hilfiger Core Stretch Slim Cneck tee Camiseta para Hombre\n        \n\n\n\n4,4 de un máximo de 5 estrellas\n\n1.399\n\n24,85 € - 45,00 € \n\n\nSiguiente\n\n\n\n\n\n\n\n\n\n\n\n\n\n\n\n¿Qué otros productos compran los clientes tras ver este producto?Página 1 de 1 Volver al inicioPágina 1 de 1  \nEsta función de compra continuará cargando productos cuando se presione la tecla Intro. Para navegar fuera de este carrusel, usa tu tecla de acceso rápido de encabezados para navegar hacia el encabezado siguiente o anterior.\nAtrás\n\n\n\n\n            Pepe Jeans Original Stretch Camiseta para Hombre\n        \n\n\n\n4,1 de un máximo de 5 estrellas\n\n368\n\n14,99 € - 25,00 € \n\n\n\n\n\n            Jack &amp; Jones Jjecorp Logo tee SS Crew Neck Noos Camiseta para Hombre\n        \n\n\n\n4,6 de un máximo de 5 estrellas\n\n4.967\n\n8,40 € - 26,87 € \n\n\n\n\n\n            Levi's Relaxed Graphic tee Camiseta para Hombre\n        \n\n\n\n4,3 de un máximo de 5 estrellas\n\n175\n\n12,50 € - 43,08 € \n\n\n\n\n\n            Levi's Sportswear Logo Graphic - Camiseta para Hombre\n        \n\n\n\n4,5 de un máximo de 5 estrellas\n\n1.422\n\n10,99 € - 47,89 € \n\n\n\n\n\n            Levi's Graphic Set-in Neck Camiseta para Hombre\n        \n\n\n\n4,4 de un máximo de 5 estrellas\n\n5.498\n\n8,99 € - 43,08 € \n\n\n\n\n\n            Levi's Housemark Graphic tee Camiseta para Hombre\n        \n\n\n\n4,5 de un máximo de 5 estrellas\n\n1.472\n\n14,50 € - 47,89 € \n\n\nSiguiente\n\n\n\n\n\n\n\n\n\n\n\n\n\n\n\n\n\n\n\n\n\nDescripción del producto\n\n\n\n\nDe Tommy Hilfiger viene la camiseta con el logo arqueado en color azul marino, con un logo en el pecho y en la manga izquierda. Con un diseño sencillo, esta camiseta tiene cuello redondo y manga corta.\n\n\n\n\n\n\n\n\n\n\n\n\n\n\n\n\nMás información del producto\n\n\n\n\n\n\n\n\n\n\n\n\n\n\n\n\n\n\nLeer más\n\n\n\n\n\n\n        TOMMY HILFIGER\n    \n\n\n\n        ESTILO DESENFADADO MODERNO, CONFIADO Y RELAJADO\n    \n\nTommy Hilfiger celebra la esencia del clásico look Americano con un toque de estilo. Descubre los últimos estilos en ropa, zapatos, bolsos y accesorios para mujeres y hombres. ¿Quieres ir de compras para un evento glamoroso, casual o para una gran noche? Tommy Hilfiger para hombres y mujeres lo tiene todo.\n        \n\n\n\n\n\n\nTommy Hilfiger Men's Tops\n\n\n\n\n\n\n\n\n\n\n\n\n\n\n\n\n\n\n\n\n\n\n\n\n\n\n\n\n\n\n\n\n\n\n\n\n\nShort Sleeve Logo Tee\n\n\n\n\nCore Stretch Slim Oxford Shirt \n\n\n\n\nCore Hilfiger Regular Polo Shirt \n\n\n\n\nCotton Icon Short Sleeve Sports Shirt \n\n\n\n\n\n\nMaterial Composition\n\n\n\n\n100% Cotton \n\n\n\n\n98% Cotton, 2% Elastane \n\n\n\n\n100% Cotton \n\n\n\n\n100% Cotton \n\n\n\n\n\n\nFit\n\n\n\n\nRegular Fit \n\n\n\n\nSlim Fit\n\n\n\n\nRegular Fit \n\n\n\n\nRegular Fit \n\n\n\n\n\n\nCollar\n\n\n\n\nClub Collar\n\n\n\n\nButton-Down\n\n\n\n\nPolo\n\n\n\n\nCrew Neck \n\n\n\n\n\n\n\n\n\n\n\n\n\n\n\n\n\n\n\n\n\n\n\n\n\n\n\n\n\n\nDetalles del producto\n\n\nNúmero de modelo del producto: UM0UM00054\nASIN: B01N4M8EZI\n Producto en Amazon.es desde: 3 de febrero de 2017\nOpiniones de los clientes: 4,3 de 5 estrellas1.069 valoraciones de clientes\n\n\nClasificación en los más vendidos de Amazon: \n\n\n\n\n\n\n\n\n\n\n\n\n\nnº15 en Ropa (Ver el Top 100 en Ropa)\n \n\n\n\n\n\n\n\n\nn.° 1\nen Camisetas de pijama para hombre\n\n\n\nWould you like to tell us about a lower price?\n\n\n\n\n\n\n\n\n\n\n\n\n\n\n\n\n\n\n\n\n\n\n\n\n\n\nThis form is not active. It will not be visible to external customers unless it is active.\n\n\n\n\nThis is an internal only form.\n\n\n\n\n\n\n\n\n\n\n\n\n\n\n        Lo sentimos\n      \n\n\n          Este formulario ya no está disponible.\n        \n\n\n\n\n\n\n\n\n\n\n\n\n\n        Lo sentimos\n      \n\n\n          Este formulario ya no está disponible.\n        \n\n\n\n\n\n\n\n\n\n\n\n\n\n\n\n\n\n\n\n\n\n\n\n            Preguntas y respuestas de los clientes\n        \n\nVer preguntas y respuestas\n\n\n\n\n\n\n\n\n\n\n\n\n\n\n\n\nOpiniones de clientes4,3 de 5 estrellas4,3 de 5\n            1.069 valoraciones de clientes\n\n\n\n\n\n\n            5 estrellas\n          \n\n\n\n\n\n\n\n\n\n\n\n\n            \n              67%\n            \n          \n\n\n\n\n\n\n\n            4 estrellas\n          \n\n\n\n\n\n\n\n\n\n\n\n\n            \n              15%\n            \n          \n\n\n\n\n\n\n\n            3 estrellas\n          \n\n\n\n\n\n\n\n\n\n\n\n\n            \n              9%\n            \n          \n\n\n\n\n\n\n\n            2 estrellas\n          \n\n\n\n\n\n\n\n\n\n\n\n\n            \n              4%\n            \n          \n\n\n\n\n\n\n\n            1 estrella\n          \n\n\n\n\n\n\n\n\n\n\n\n\n            \n              6%\n            \n          \n\n\n\n\n¿Cómo calcula Amazon las valoraciones?Amazon calcula las valoraciones de un producto utilizando un modelo de programación de máquina en lugar de un modelo de media de datos sin procesar. El modelo de máquina tiene en cuenta factores como, por ejemplo, la antigüedad de la reseña, la utilidad de los votos de los clientes y si las reseñas son de compras verificadas.\n\n\n\n\n\n\n\n\n\n\n\n        Reseñas más importantes\n      \n\n        Más recientes\n      \nReseñas más importantes\n\n\n\nHa surgido un problema al filtrar las opiniones justo en este momento. Vuelva a intentarlo en otro momento.RAW1,0 de 5 estrellas\nNo recomendable\nRevisado en España el 13 de mayo de 2020Tamaño: XLColor: Blanco (White)Compra verificada\nLa camiseta queda extremadamente pequeña y muy ceñida y eso que es una XL mido 1,82 peso 79 kl material se ve de calidad y muy bonita pero las costuras del hombro son algo extrañas y muy decepcionado con la talla para ser XL me queda como una M, de largo del busto bien pero muy muy estrecha Las mangas bien cuello correcto pero hombros mal quedan como si llevaras hombreras cintura muy mal muy ceñida estrecha la camiseta es para personas en los huesos el envío de la camiseta muy rápidos tengo otras prendas de esta Marca como camisa o sudadera y las tallas son correctas no entiendo las medidas de esta camiseta la verdad.\nLeer más\nA 3 personas les ha parecido esto útil\n\n          Útil\n\n\nComentar\nInformar de un abuso\nAndi5,0 de 5 estrellas\nMe encanta esta camiseta\nRevisado en España el 10 de junio de 2020Tamaño: MColor: Blanco (White)Compra verificada\nEl logo me gusta mucho, por ello, que sea toda tan \"limpia\" y sencilla destacando el logo, me gusta mucho. Además, TH es de las mejores en calidad de ropa, se nota buena calidad del material. Muy buena compra. Precio imbatible (al que yo compré).\nLeer más\nA una persona le ha parecido esto útil\n\n          Útil\n\n\nComentar\nInformar de un abuso\nAmparo5,0 de 5 estrellas\nMuy bonita pero un poco pequeña\nRevisado en España el 27 de septiembre de 2019Tamaño: XLColor: Azul (Navy Blazer)Compra verificada\nLa camiseta está muy bien pero talla un poco pequeña, compré varias de otras marcas y esta es la única que he tenido que cambiar por una talla mas.Recomiendo una talla más de la habitual.\nLeer más\nA 2 personas les ha parecido esto útil\n\n          Útil\n\n\nComentar\nInformar de un abuso\nYavWar4,0 de 5 estrellas\nEstá bien\nRevisado en España el 9 de julio de 2019Tamaño: MColor: Gris (Grey Heather)Compra verificada\nCompré esta camiseta para un regalo. El modelo como tal es bonito y no ha salido mal de precio (24 €). La calidad es normalita, nada diferente a cualquier camiseta de algodón que puedas adquirir por precios inferiores; creo que al final acabas pagando la marca ... La talla M correcta, sienta bien.\nLeer más\nA una persona le ha parecido esto útil\n\n          Útil\n\n\nComentar\nInformar de un abuso\nAmidala6665,0 de 5 estrellas\nMuy buena compra\nRevisado en España el 11 de abril de 2019Tamaño: XLColor: Azul (Navy Blazer)Compra verificada\nÉsta camiseta si q es preciosa d diez. La talla es calcada a la q normalmente se usa, es d algodón una tela hermosa no marca tan excesivamente como si fuera poliéster queda fenomenal. La recomiendo es tal cual la foto\nLeer más\nA 2 personas les ha parecido esto útil\n\n          Útil\n\n\nComentar\nInformar de un abuso\nCeleste5,0 de 5 estrellas\nLa recomendo 100% acierto seguro\nRevisado en España el 8 de enero de 2019Tamaño: MColor: Azul (Navy Blazer)Compra verificada\nSe la compré a mi novio, le cogí la talla M que es la que usa siempre en todas las camisetas y le queda perfecta. El estampado y la tela está como el primer día y tiene ya muchos lavados. La recomiendo 100%\nLeer más\nA 3 personas les ha parecido esto útil\n\n          Útil\n\n\nComentar\nInformar de un abuso\nMercedes3,0 de 5 estrellas\nComo en la foto\nRevisado en España el 13 de marzo de 2019Tamaño: SColor: Gris (Grey Heather)Compra verificada\nLa calidad del algodón se ve que es de calidad aunque no he realizado ningún lavado por lo que no sé si se deforma o no. La talla es europea por lo que queda como esperaba.\nLeer más\nA una persona le ha parecido esto útil\n\n          Útil\n\n\nComentar\nInformar de un abuso\nAlbert3,0 de 5 estrellas\nTalla un poco más grande de lo que debería\nRevisado en España el 16 de abril de 2018Compra verificada\nLa talla es un poco más grande de lo que debería ser. La camiseta estaba bien, pero claro, si no te va bien...\nLeer más\nA 3 personas les ha parecido esto útil\n\n          Útil\n\n\nComentar\nInformar de un abuso\nVer todas las reseñas de España\n\n\n\n\n\n\n      \n        \n        \n          Las mejores reseñas internacionales\n        \n      \n    \n\n\nTraducir todas las reseñas al Español\n\n\n\n\n\n\n\n\n\n\nJoshua D.2,0 de 5 estrellas\nStrange fit\nRevisado en Reino Unido el 16 de febrero de 2019Tamaño: LColor: Gris (Grey Heather)Compra verificada\nI ordered a size up but found it still was a really small fit. The chest was spot on, however the sleeves almost made it look like a vest. I would definitely order perhaps 2 sizes up.The material is very light and clings to skin, unlike my other Tommy T-shirts.The neck is also not very tight at all.Not my favourite Tommy Product.\nLeer más\nA 8 personas les ha parecido esto útil\n\n            Útil\n\nEnviando comentario...Gracias por su comentario.Lo sentimos, no hemos podido registrar tu voto. Vuelva a intentarlo\n\nInformar de un abuso\nTraducir reseña a Español\n\n\n\n\njeffro 1,0 de 5 estrellas\nXL  no a medium size at best\nRevisado en Reino Unido el 12 de abril de 2020Tamaño: XLColor: Azul (Navy Blazer)Compra verificada\nI'm speechless this XL is more like a MThink carefully before you buyI now have to go through the hassle of returning..I took a photo of it against the backdrop of a normal XL must be be rejects no doubt last years may have been corre t size but these aren't8 days later since i posted still waiting for my refund.. avoid !!!\nLeer más\n\n\n\n\n\nA 2 personas les ha parecido esto útil\n\n            Útil\n\nEnviando comentario...Gracias por su comentario.Lo sentimos, no hemos podido registrar tu voto. Vuelva a intentarlo\n\nInformar de un abuso\nTraducir reseña a Español\n\n\n\n\nBobby1,0 de 5 estrellas\nFar too small\nRevisado en Reino Unido el 22 de marzo de 2019Tamaño: XLColor: Azul (Navy Blazer)Compra verificada\nI'm. A big lad not fat big and I bought xl it was like a medium. Sticking like hanging on for dear life.Not great quality either\nLeer más\nA 5 personas les ha parecido esto útil\n\n            Útil\n\nEnviando comentario...Gracias por su comentario.Lo sentimos, no hemos podido registrar tu voto. Vuelva a intentarlo\n\nInformar de un abuso\nTraducir reseña a Español\n\n\n\n\nCliente Amazon2,0 de 5 estrellas\nvestibilità!!!!\nRevisado en Italia el 12 de mayo de 2019Tamaño: XLColor: Gris (Grey Heather)Compra verificada\nnon riesco a capire se ho ricevuto una t-shirt fallata o è fatta proprio cosi!!!! praticamente bisogna avere le spalle di Rambo e la vita di Roberto Bolle!!!! il tessuto certo è ottimo,ma la vestibilità mi sembra molto discutibile!!!!\nLeer más\nA 18 personas les ha parecido esto útil\n\n            Útil\n\nEnviando comentario...Gracias por su comentario.Lo sentimos, no hemos podido registrar tu voto. Vuelva a intentarlo\n\nInformar de un abuso\nTraducir reseña a Español\n\n\n\n\nScarllette Tyler5,0 de 5 estrellas\nQuality value 100% authentic soft material better than expect\nRevisado en Reino Unido el 10 de abril de 2020Tamaño: XLColor: Azul (Navy Blazer)Compra verificada\nQUALITY T-shirt LOVE 💙😁IT 5★★★★★Value too so soft &amp; the price point wow i wasn't expecting it to be so nice &amp; as decent to be honest but its pleasantly surprised me cheers Amazon take all my money im addicted lol\nLeer más\nA una persona le ha parecido esto útil\n\n            Útil\n\nEnviando comentario...Gracias por su comentario.Lo sentimos, no hemos podido registrar tu voto. Vuelva a intentarlo\n\nInformar de un abuso\nTraducir reseña a EspañolCargar más reseñas internacionales\n\n\n\n\nIch weiß was5,0 de 5 estrellas\nso schön, dass wir gleich nachbestellt haben\nRevisado en Alemania el 20 de junio de 2019Tamaño: SColor: Gris (Grey Heather)Compra verificada\nDas erste bestellte Hilfiger T-Shirt hat uns so gut gefallen, dass wir gleich noch weitere auch in anderer Farbe nachbestellt haben. Sie passen mir, wie auch unseren Teenagern perfekt. Angenehmer leichter Stoff, der auch sehr gut verarbeitet wurde. Der Hilfiger Schriftzug ist bei dem grauen T-Shirt etwas feiner (dünner gummiert) wie bei dem blauen. Wegen dem Schriftzug nur auf links und bis 30° waschen.Schicke T-Shirts in denen man sich wohlfühlen kann.Wir sind mit dem Kauf und der Qualität sehr zufrieden.\nLeer más\n\n\n\n\n\nA 15 personas les ha parecido esto útil\n\n            Útil\n\nEnviando comentario...Gracias por su comentario.Lo sentimos, no hemos podido registrar tu voto. Vuelva a intentarlo\n\nInformar de un abuso\nTraducir reseña a Español\n\n\n\n\nBaz1,0 de 5 estrellas\nCheap tshirt with a logo\nRevisado en Reino Unido el 28 de octubre de 2019Tamaño: MColor: Azul (Navy Blazer)Compra verificada\nIt's a cheap couple of pounds tshirt with a logo on the front. Not even an attempt to use a quality tshirt. Your paying for the name. Pound shop tshirt. Thin and see through if held to the light. Buy it if you have plenty money to throw away.\nLeer más\nA una persona le ha parecido esto útil\n\n            Útil\n\nEnviando comentario...Gracias por su comentario.Lo sentimos, no hemos podido registrar tu voto. Vuelva a intentarlo\n\nInformar de un abuso\nTraducir reseña a Español\n\n\n\n\nmichael stephenson4,0 de 5 estrellas\nlovely shirt\nRevisado en Reino Unido el 10 de septiembre de 2019Tamaño: XLColor: Gris (Grey Heather)Compra verificada\nnice but too tight. strange how same alleged sizes are all different. have to wait till Im slimmer for it to fit\nLeer más\nA una persona le ha parecido esto útil\n\n            Útil\n\nEnviando comentario...Gracias por su comentario.Lo sentimos, no hemos podido registrar tu voto. Vuelva a intentarlo\n\nInformar de un abuso\nTraducir reseña a Español\n\n\n\n\nDuarte C.5,0 de 5 estrellas\nFits really well\nRevisado en Reino Unido el 20 de abril de 2020Tamaño: LColor: Azul (Navy Blazer)Compra verificada\nI was a bit sceptical because of all the reviews that say it's too small but ended up ordering my usual size anyway.In my case, the t-shirt fits really well just like all my other ones.\nLeer más\n\n\n            Útil\n\nEnviando comentario...Gracias por su comentario.Lo sentimos, no hemos podido registrar tu voto. Vuelva a intentarlo\n\nInformar de un abuso\nTraducir reseña a Español\n\n\n\n\nSaffy4,0 de 5 estrellas\nNice tee shirt\nRevisado en Reino Unido el 4 de mayo de 2020Tamaño: MColor: Azul (Navy Blazer)Compra verificada\nThis is a nice t-shirt and the material was pretty good. The size was slightly smaller than expected for a medium if you prefer to have a tad loose fit.\nLeer más\n\n\n            Útil\n\nEnviando comentario...Gracias por su comentario.Lo sentimos, no hemos podido registrar tu voto. Vuelva a intentarlo\n\nInformar de un abuso\nTraducir reseña a EspañolCargar más reseñas internacionales\n\n\n\n\nrozita russell5,0 de 5 estrellas\nA bargain and good quality\nRevisado en Reino Unido el 27 de septiembre de 2019Tamaño: MColor: Azul (Navy Blazer)Compra verificada\nThis shirt arrived early which is always nice. Great quality and fit. I couldn't believe the price as 1/2 the price of local shops.My son loves it and i am ordering more in different colours\nLeer más\n\n\n            Útil\n\nEnviando comentario...Gracias por su comentario.Lo sentimos, no hemos podido registrar tu voto. Vuelva a intentarlo\n\nInformar de un abuso\nTraducir reseña a Español\n\n\n\n\nN Thammanna1,0 de 5 estrellas\nStupidly small\nRevisado en Reino Unido el 23 de abril de 2020Tamaño: XLColor: Azul (Navy Blazer)Compra verificada\nI agree with the last few reviews. The XL fits like a medium. The sleeves are tight. The material is thin. I won’t be wearing this in public\nLeer más\n\n\n            Útil\n\nEnviando comentario...Gracias por su comentario.Lo sentimos, no hemos podido registrar tu voto. Vuelva a intentarlo\n\nInformar de un abuso\nTraducir reseña a Español\n\n\n\n\nMaester F1,0 de 5 estrellas\nPoor. Wouldn’t recommend.\nRevisado en Reino Unido el 26 de abril de 2020Tamaño: LColor: Azul (Navy Blazer)Compra verificada\nI assume this is genuine but quality is basic and sizing is completely wrong. Bought a Large and it’s more like a small/medium.\nLeer más\n\n\n            Útil\n\nEnviando comentario...Gracias por su comentario.Lo sentimos, no hemos podido registrar tu voto. Vuelva a intentarlo\n\nInformar de un abuso\nTraducir reseña a Español\n\n\n\n\nAjess5,0 de 5 estrellas\nGreat T-shirt\nRevisado en Reino Unido el 9 de junio de 2019Tamaño: LColor: Blanco (White)Compra verificada\nGreat Tommy Hilfiger t shirt. It sits really well and you can feel the quality. It was delivered fast and had already become one of my favourite T-shirt’s\nLeer más\n\n\n            Útil\n\nEnviando comentario...Gracias por su comentario.Lo sentimos, no hemos podido registrar tu voto. Vuelva a intentarlo\n\nInformar de un abuso\nTraducir reseña a Español\n\n\n\n\nMS EMMA J BARNES5,0 de 5 estrellas\nSize up x2\nRevisado en Reino Unido el 30 de abril de 2020Tamaño: LColor: Azul (Navy Blazer)Compra verificada\nI brought a large which equates to a small really for my 12 year old. He loves it the t-shirt is good quality I only paid £7.99 sonot complaining.\nLeer más\n\n\n            Útil\n\nEnviando comentario...Gracias por su comentario.Lo sentimos, no hemos podido registrar tu voto. Vuelva a intentarlo\n\nInformar de un abuso\nTraducir reseña a EspañolHas leído las mejores opiniones internacionalesVer todas las reseñas de España\n\n\n\n\n\n\n\n\n\n\n\n\n\n\n\n\n\n\n\n\n\n\n\n\n\n Amazon Prime: envíos rápidos, GRATIS e ilimitados y mucho más \n Los clientes de Amazon Prime disfrutan de Envío en 1 día GRATIS en dos millones de productos y Envío en 2 o 3 días en millones de productos más, Acceso a series y películas en Prime Video, incluyendo las series Amazon Originals, más de 2 millones de canciones y cientos de listas de reproducción sin publicidad con Prime Music, cientos de eBooks en Prime Reading, Acceso Prioritario a las Ofertas flash y Almacenamiento de fotos gratis e ilimitado en Amazon Drive. \n\n      &gt;\n      Más información\n\n\n\n\n\n\n\n\n\n\nHay un problema para cargar este menú.\nMás información sobre Amazon Prime.\n\n\n\n\n\n\n\n\n\n\n\n\n\n\n\nVolver arriba\nConócenosTrabajar en AmazonSobre Amazon.esSostenibilidadGana dinero con nosotrosVender en AmazonVender como Amazon AcceleratorVender en Amazon BusinessVende en Amazon HandmadePrograma de afiliadosLogística de AmazonPromociona tus productosPublica tu libro en KindleAmazon PayMétodos de pago AmazonMétodos de pagoConversor de divisas de AmazonCheques RegaloRecarga onlineRecarga en tienda¿Necesitas ayuda?Amazon y COVID-19Localizar o gestionar comprasTarifas y políticas de envíoAmazon PrimeDevolver o reemplazar productosReciclajeGestionar contenido y dispositivosApp AmazonAmazon AssistantAtención al ClienteIVA sobre los bienes\n\n\nAustraliaAlemaniaBrasilCanadáChinaEstados UnidosFranciaIndiaItaliaJapónMéxicoPaíses BajosEmiratos Árabes UnidosReino UnidoSingapurTurquía\n\nAmazon Music Transmite millones de canciones\n\nIberLibro Libros, arte &amp; artículos de colección\n\nAmazon Web Services Servicios Cloud Computing de Amazon\n\nBook Depository Libros con entrega gratis en todo el mundo\n\nKindle Direct Publishing Publica tu libro en papel y digital de manera independiente\n\n \n\nPrime Now Entrega en 1 hora En miles de productos\n\nProductos Reacondicionados Precios bajos en productos revisados por Amazon\n\nShopbop Marcas de moda de diseño \n\nAmazon Business Servicio para clientes de empresa\n\nAmazon Second Chance Donar, intercambiar, dar una segunda vida\n\n\nCondiciones de Uso y VentaAviso de privacidadÁrea legalCookiesPublicidad basada en intereses© 1996-2020, Amazon.com, Inc. o afiliados. Todos los derechos reservados.\n\n"
    }
   ],
   "source": [
    "url = \"\"\"https://www.amazon.es/Tommy-Hilfiger-UM0UM00054-Camiseta-Hombre/dp/B01MYD0T1F/ref=sr_1_1?dchild=1&pf_rd_p=58224bec-cac9-4dd2-a42a-61b1db609c2d&pf_rd_r=VZQ1JTQXFVRZ9E9VSKX4&qid=1595364419&s=apparel&sr=1-1\"\"\"\n",
    "\n",
    "def get_page_contents(url):\n",
    "    page = requests.get(url, headers={\"Accept-Language\": \"en-US\"})\n",
    "    return BeautifulSoup(page.text, \"html.parser\")\n",
    "soup = get_page_contents(url)\n",
    "show_html(soup.text)     #PRUEBA1"
   ]
  },
  {
   "cell_type": "code",
   "execution_count": 273,
   "metadata": {
    "tags": []
   },
   "outputs": [],
   "source": [
    "import requests\n",
    "from bs4 import BeautifulSoup\n",
    "\n"
   ]
  },
  {
   "cell_type": "code",
   "execution_count": 274,
   "metadata": {
    "tags": []
   },
   "outputs": [
    {
     "output_type": "stream",
     "name": "stdout",
     "text": "None\n\n"
    }
   ],
   "source": [
    "title_feature_list = soup.find(class_='feature')\n",
    "show_html(str(title_feature_list))"
   ]
  },
  {
   "cell_type": "code",
   "execution_count": 275,
   "metadata": {},
   "outputs": [],
   "source": [
    "import scrapy as scrapy\n",
    "import urlopen"
   ]
  },
  {
   "cell_type": "code",
   "execution_count": 276,
   "metadata": {},
   "outputs": [],
   "source": [
    "from urllib.request import urlopen as urlo "
   ]
  },
  {
   "cell_type": "code",
   "execution_count": 278,
   "metadata": {},
   "outputs": [
    {
     "output_type": "execute_result",
     "data": {
      "text/plain": "'https://www.amazon.es/Tommy-Hilfiger-UM0UM00054-Camiseta-Hombre/dp/B01MYD0T1F/ref=sr_1_1?dchild=1&pf_rd_p=58224bec-cac9-4dd2-a42a-61b1db609c2d&pf_rd_r=VZQ1JTQXFVRZ9E9VSKX4&qid=1595364419&s=apparel&sr=1-1'"
     },
     "metadata": {},
     "execution_count": 278
    }
   ],
   "source": [
    "my_url = 'https://www.amazon.es/Tommy-Hilfiger-UM0UM00054-Camiseta-Hombre/dp/B01MYD0T1F/ref=sr_1_1?dchild=1&pf_rd_p=58224bec-cac9-4dd2-a42a-61b1db609c2d&pf_rd_r=VZQ1JTQXFVRZ9E9VSKX4&qid=1595364419&s=apparel&sr=1-1'\n",
    "my_url       #PRUEBA2"
   ]
  },
  {
   "cell_type": "code",
   "execution_count": 279,
   "metadata": {},
   "outputs": [],
   "source": [
    "uamazon = urlo(my_url) "
   ]
  },
  {
   "cell_type": "code",
   "execution_count": 280,
   "metadata": {},
   "outputs": [
    {
     "output_type": "execute_result",
     "data": {
      "text/plain": "s://www.amazon.ae/ref=footer_ae\\' class=\\'nav_a\\'>Emiratos \\xc3\\x81rabes Unidos</a></li><li><a href=\\'https://www.amazon.co.uk/ref=footer_uk\\' class=\\'nav_a\\'>Reino Unido</a></li><li><a href=\\'https://www.amazon.sg/ref=footer_sg\\' class=\\'nav_a\\'>Singapur</a></li><li class=\\'nav_last\\'><a href=\\'https://www.amazon.com.tr/ref=footer_tr\\' class=\\'nav_a\\'>Turqu\\xc3\\xada</a></li></ul></div>\\n\\n<div class=\"navFooterLine navFooterLinkLine navFooterDescLine\"><table class=\"navFooterMoreOnAmazon\" cellspacing=\"0\"><tr>\\n<td class=\"navFooterDescItem\"><a href=\\'https://music.amazon.es/?ref=dm_aff_amz_es\\' class=\\'nav_a\\'>Amazon Music<br/> <span class=\"navFooterDescText\">Transmite millones<br/> de canciones</span></a></td>\\n<td class=\"navFooterDescSpacer\" style=\"width: 4%\"></td>\\n<td class=\"navFooterDescItem\"><a href=\\'https://www.iberlibro.com/\\' class=\\'nav_a\\'>IberLibro<br/> <span class=\"navFooterDescText\">Libros, arte<br/> & art\\xc3\\xadculos de colecci\\xc3\\xb3n</span></a></td>\\n<td class=\"navFooterDescSpacer\" style=\"width: 4%\"></td>\\n<td class=\"navFooterDescItem\"><a href=\\'https://aws.amazon.com/es/?sc_channel=EL&amp;sc_campaign=ES_amazonfooter\\' class=\\'nav_a\\'>Amazon Web Services<br/> <span class=\"navFooterDescText\">Servicios Cloud Computing<br/> de Amazon</span></a></td>\\n<td class=\"navFooterDescSpacer\" style=\"width: 4%\"></td>\\n<td class=\"navFooterDescItem\"><a href=\\'https://www.bookdepository.com/\\' class=\\'nav_a\\'>Book Depository<br/> <span class=\"navFooterDescText\">Libros con entrega gratis<br/> en todo el mundo</span></a></td>\\n<td class=\"navFooterDescSpacer\" style=\"width: 4%\"></td>\\n<td class=\"navFooterDescItem\"><a href=\\'https://kdp.amazon.com/?language=es_ES\\' class=\\'nav_a\\'>Kindle Direct Publishing<br/> <span class=\"navFooterDescText\">Publica tu libro en papel y digital<br/> de manera independiente</span></a></td>\\n</tr>\\n<tr><td>&nbsp;</td></tr>\\n<tr>\\n<td class=\"navFooterDescItem\"><a href=\\'https://primenow.amazon.es/?ref=HOUD12C322_0_GlobalFooter\\' class=\\'nav_a\\'>Prime Now<br/> <span class=\"navFooterDescText\">Entrega en 1 hora<br/> En miles de productos</span></a></td>\\n<td class=\"navFooterDescSpacer\" style=\"width: 4%\"></td>\\n<td class=\"navFooterDescItem\"><a href=\\'/Productos-Reacondicionados/b?ie=UTF8&amp;node=3582001031&amp;ref_=footer_wrhsdls\\' class=\\'nav_a\\'>Productos Reacondicionados<br/> <span class=\"navFooterDescText\">Precios bajos en productos revisados por Amazon</span></a></td>\\n<td class=\"navFooterDescSpacer\" style=\"width: 4%\"></td>\\n<td class=\"navFooterDescItem\"><a href=\\'https://www.shopbop.com/\\' class=\\'nav_a\\'>Shopbop<br/> <span class=\"navFooterDescText\">Marcas<br/> de moda de dise\\xc3\\xb1o </span></a></td>\\n<td class=\"navFooterDescSpacer\" style=\"width: 4%\"></td>\\n<td class=\"navFooterDescItem\"><a href=\\'/b?ie=UTF8&amp;node=14862331031&amp;ref_=nav_footer_business\\' class=\\'nav_a\\'>Amazon Business<br/> <span class=\"navFooterDescText\">Servicio para<br/> clientes de empresa</span></a></td>\\n<td class=\"navFooterDescSpacer\" style=\"width: 4%\"></td>\\n<td class=\"navFooterDescItem\"><a href=\\'/amazonsecondchance?_encoding=UTF8&amp;ref_=footer_asc\\' class=\\'nav_a\\'>Amazon Second Chance<br/> <span class=\"navFooterDescText\">Donar, intercambiar,<br/> dar una segunda vida</span></a></td>\\n</tr>\\n</table></div>\\n   \\n<div class=\"navFooterLine navFooterLinkLine navFooterPadItemLine navFooterCopyright\"><ul><li class=\\'nav_first\\'><a href=\\'/gp/help/customer/display.html?ie=UTF8&amp;nodeId=201909000&amp;ref_=footer_cou\\' class=\\'nav_a\\'>Condiciones de Uso y Venta</a></li><li><a href=\\'/gp/help/customer/display.html?ie=UTF8&amp;nodeId=201909010&amp;ref_=footer_privacy\\' class=\\'nav_a\\'>Aviso de privacidad</a></li><li><a href=\\'/gp/help/customer/display.html?ie=UTF8&amp;nodeId=201909250&amp;ref_=footer_legal_area\\' class=\\'nav_a\\'>\\xc3\\x81rea legal</a></li><li><a href=\\'/gp/help/customer/display.html?ie=UTF8&amp;nodeId=201890250&amp;ref_=footer_cookies_notice\\' class=\\'nav_a\\'>Cookies</a></li><li class=\\'nav_last\\'><a href=\\'/gp/help/customer/display.html?ie=UTF8&amp;nodeId=201909150&amp;ref_=footer_Interest_Based_Ads_Notice\\' class=\\'nav_a\\'>Publicidad basada en intereses</a></li></ul><span>\\xc2\\xa9 1996-2020, Amazon.com, Inc. o afiliados. Todos los derechos reservados.</span><ul></ul></div>\\n</div><!-- whfh-scEhae8QP+FHiQ8J3HOyhTxnNsQ67Xo/ofy/pIv54KknomWLGkiEQQ== rid-YWT0BT864BZE66S0R4FV -->\\n<div id=\"sis_pixel_r2\" aria-hidden=\"true\" style=\"height:1px; position: absolute; left: -1000000px; top: -1000000px;\"></div>\\n\\n\\n\\n\\n  <script type=\"text/javascript\">\\n    // Only execute if performance object is defined in JS\\n    if(typeof performance!= \"undefined\" && typeof performance.getEntries != \"undefined\") {\\n\\n\\n\\n\\n        var metaAssetNames = [];\\n        metaAssetNames.push(\"DetailPageMetaAssetFixed\");\\n        metaAssetNames.push(\"DetailPageDesktopImageBlockMetaAsset\");\\n        metaAssetNames.push(\"SoftlinesDetailPageMetaAsset_TURBO_DESKTOP\");\\n        metaAssetNames.push(\"DetailPageAllOffersDisplayAssets\");\\n        if(metaAssetNames.length > 0)  {\\n            for(assetIndex = 0; assetIndex < metaAssetNames.length; assetIndex ++) {\\n\\t     var metaAssetName = metaAssetNames[assetIndex];\\n             var re = new RegExp(\"\\\\\\\\.css\\\\\\\\?AUIClients/\" + metaAssetName); \\n             for(i = 0; i < performance.getEntries().length; i++) {\\t   \\t\\n                var dpEntry = performance.getEntries()[i];\\n\\t\\tvar res = dpEntry.name.match(re);\\n                if(res && dpEntry.initiatorType  && dpEntry.initiatorType == \"link\") {\\n                    var dpmaDuration = dpEntry.duration;\\n                    ue.count(metaAssetName +\".duration\", dpmaDuration);\\n                    if(dpmaDuration < 50) {\\n                        ue.tag(metaAssetName + \"Cached\");\\n                    } else {\\n                        ue.tag(metaAssetName + \"NotCached\");\\n                    }\\n                    ue.count(metaAssetName + \".startTime\", dpEntry.startTime);\\n                }\\n\\t      }\\n\\t    }\\n        }\\n        else {\\n                ue.count(\"DPMANoMetaAsset\", 1);\\n        }\\n\\n        for(i = 0 ; i < performance.getEntries().length ; i++) {\\n            var name = performance.getEntries()[i].name ;\\n            var res = name.match(/\\\\.css\\\\?AUIClients\\\\/AmazonUI/);\\n\\t    var initiatorType = performance.getEntries()[i].initiatorType;\\n            if(res && initiatorType && initiatorType == \"link\") {\\n                var duration = performance.getEntries()[i].duration ;\\n                ue.count(\"aui.duration\", duration);\\n                ue.count(\"aui.startTime\", performance.getEntries()[i].startTime);\\n                if(duration < 50) {\\n                    csmTag = \"auiCached\";\\n                }\\n                else {\\n                    csmTag = \"auiNotCached\";\\n                }\\n\\n                if(window.ue && ue.tag) {\\n                    ue.tag(csmTag);\\n                }\\n                break;\\n            }\\n        }\\n    }\\n</script>\\n\\n\\n\\n\\n\\n\\n\\n\\n\\n\\n\\n\\n\\n\\n\\n\\n\\n\\n<script>\\n(window.AmazonUIPageJS ? AmazonUIPageJS : P).when(\\'A\\').execute(function(A){\\n  if(A.preload){\\n    A.preload(\\'https://images-na.ssl-images-amazon.com/images/I/61-6nKPKyWL._RC|11Y+5x+kkTL.js,61Usf6ZKPoL.js,212PEt8u8bL.js,012FVc3131L.js,11KoZmq92cL.js,51TNaPzHULL.js,11AHlQhPRjL.js,01-Ag-OPDsL.js,11SvFon9IkL.js,11p81T3qWFL.js,21ssiLNIZvL.js,0190vxtlzcL.js,61N4mcEKRxL.js,01ezj5Rkz1L.js,11EemQQsS-L.js,31pOTH2ZMRL.js,01rpauTep4L.js,01iyxuSGj4L.js,01CRyJpOGrL.js_.js?AUIClients/AmazonUI\\');\\n    A.preload(\\'https://images-na.ssl-images-amazon.com/images/I/11EIQ5IGqaL._RC|012LjolmrML.css,017DsKjNQJL.css,01NL3TVKoYL.css,01HEsUOLYvL.css,41EWOOlBJ9L.css,11rkuLsEFQL.css,01ElnPiDxWL.css,11QxHU4QYaL.css,01Sp8sB1HiL.css,01IdKcBuAdL.css,01y-XAlI+2L.css,01evdoiemkL.css,01K+Ps1DeEL.css,314djKvMsUL.css,01W6EiNzKkL.css,51AZ-Jz5kmL.css,11UGC+GXOPL.css,21LK7jaicML.css,11L58Qpo0GL.css,21kyTi1FabL.css,01ruG+gDPFL.css,01YhS3Cs-hL.css,21GwE3cR-yL.css,019SHZnt8RL.css,11yCvBPNfFL.css,21bWcRJYNIL.css,11WgRxUdJRL.css,01dU8+SPlFL.css,11ocrgKoE-L.css,01SHjPML6tL.css,111-D2qRjiL.css,01QrWuRrZ-L.css,310Imb6LqFL.css,01piEq-AdwL.css,11Z1a0FxSIL.css,01cbS3UK11L.css,21mOLw+nYYL.css,01giMEP+djL.css_.css?AUIClients/AmazonUI#not-trident.282109-T1\\');\\n    A.preload(\\'https://images-na.ssl-images-amazon.com/images/I/01j2xsQ1yML.css?AUIClients/DetailPageMetaAssetFixed#desktop.252810-T1\\');\\n    A.preload(\\'https://images-na.ssl-images-amazon.com/images/I/31GulO6CejL._RC|31Nb5hZQizL.js,316nVZ1c+gL.js,21u1PnPEsML.js,318rs4piGPL.js,11ISJZDdTuL.js,01TQyo0bnIL.js,11bdX9xnYpL.js,01jEqq6I0UL.js,41e425lf2xL.js,61vJNtxMsKL.js,01mDj54LSEL.js,01Fy9QPljuL.js,11oGaoYgbdL.js,0193uyIciNL.js,41fW1gpnNZL.js,41WZJYAJTZL.js,11p0nLfNCcL.js,01s9HEfbt3L.js,11iHZuQapKL.js,015TRQC5i+L.js,01JzE3-DfLL.js,61Rf4fRMOnL.js,01I+ls4AqQL.js,01XEEGOr+kL.js,01PQKs49DyL.js_.js?AUIClients/HardlinesDetailPageMetaAssetFixed#desktop.es.237095-T1.234887-T1.195406-T1.184660-C\\');\\n    A.preload(\\'https://images-na.ssl-images-amazon.com/images/I/61MFlB8C9jL._RC|11bRdV2t20L.css,514T4Tj3VdL.css,01g2EoxOu-L.css,210C7n+CEqL.css,21ByukFKG4L.css,01N8OOpUZPL.css,0121zKjk26L.css,11xRy3bSkOL.css,01QUs5FVXoL.css,11+KTbhyniL.css,41vOQb1k0LL.css,01FtAuFRr3L.css,01rgQ3jqo7L.css,21ZTURXcQVL.css,31TJtSmBkXL.css,11X8K4AolpL.css,21PjfsP9YvL.css,21W5fiSj06L.css,31RwR9Sh19L.css,015FNYa5WbL.css,0136TS0ICUL.css_.css?AUIClients/HardlinesDetailPageMetaAssetFixed#desktop.es.172402-T1.129737-C\\');\\n    A.preload(\\'https://images-na.ssl-images-amazon.com/images/I/61zyBkhcKlL._RC|01PQKs49DyL.js,51RZrQlZvAL.js_.js?AUIClients/DetailPageDesktopImageBlockMetaAsset#230697-T1.283706-T1.266185-C.275156-T1.238616-T1.224733-T1.233559-T1.169593-T1\\');\\n    A.preload(\\'https://images-na.ssl-images-amazon.com/images/I/31m1t5mPVoL.css?AUIClients/DetailPageDesktopImageBlockMetaAsset#desktop.249566-T1.282076-T1\\');\\n    A.preload(\\'https://images-na.ssl-images-amazon.com/images/I/21AXDqUWwXL._RC|11nvztnchvL.js,21E2aIDj6DL.js,21qk2ExEZeL.js,31J4HR6Zu-L.js,01g2etah0NL.js,21BILr03WKL.js,21xgueFka0L.js,31QOR9nXodL.js,41yydvYMilL.js,11q7hjp4ewL.js,0185ITV0M6L.js,41I+tXeHewL.js,21Fu9j1zRBL.js,21jtT4xJ9VL.js,71l-Cj8CpGL.js,4123BTTtUrL.js,11nOzlnr6+L.js,31r7NSuHzOL.js,31nGeerMTdL.js,31UjTApGOPL.js,31ve5qgjpPL.js,21NDIsf0a1L.js,11AVRVWTouL.js,11+dypSOVUL.js,01jqyAujTwL.js,31+0pACITzL.js,61a+bEDorFL.js,115eJenyunL.js,01RQtSMdG+L.js,01OtvpwikQL.js,31qUdoxPE8L.js,51n64hASv+L.js,21v7Os12mhL.js,21mWHADpIYL.js,21qOGqjcM7L.js,31UaW8zx0bL.js,01lcH4zcTaL.js,013eoEBTVUL.js,21YW9LKF2zL.js,21mymEONFtL.js,61no9IDtPrL.js,21OJDARBhQL.js,41s+OBPxTPL.js,51IiNKR5SOL.js,01IWUb29Q4L.js,01YivelYW5L.js,016QFWAAdML.js,41CtMT526YL.js,41heHSWCouL.js,41TtRQbnkPL.js,11DbyV7EqEL.js,01IQoRXvpnL.js,011bX2ciJbL.js,21222B+rAzL.js,01gp3oqpb5L.js,31abTeO2myL.js,11CIaAZhucL.js,01zM73lDxwL.js,015o6sfRHyL.js,014kCoIHgIL.js,019W6kk1gjL.js,01zgbxolsfL.js,311A0yCIeJL.js,51KlV87LiqL.js,01yx6A7MuUL.js,01acYp41-1L.js,01yKfdOYWdL.js,01dXSEbmdvL.js,01IC-gBKyYL.js,01PQKs49DyL.js,01fffmaF5CL.js,617RxLZ+gsL.js,21rYUjMk16L.js,01OI0RzpxfL.js_.js?AUIClients/HardlinesDetailPageMetaAssetVariable_TURBO_DESKTOP#desktop.language-es.es.210547-T1.188581-T1.216044-T1.271895-T1.238616-T1.279490-T1.238103-C.187903-T3.200616-T1.280674-T1.234932-T1.172346-T1.109378-T1.154031-T3.227612-C.253809-T1.254249-T1.278272-T1.224722-T1.169593-T1.142088-C.181561-T1.217459-T1.187555-T1\\');\\n    A.preload(\\'https://images-na.ssl-images-amazon.com/images/I/210LbiKyCML._RC|315GMAwkLiL.css,01ekIXTj5kL.css,01TgljZXzkL.css,11iwHtffX1L.css,01UfR8ATi1L.css,01b9Iu3feKL.css,01D-B-OeNDL.css,21CTcSQ19+L.css,41cWtXpzFgL.css,01FlII1u-ZL.css,21PVH-GNBWL.css,212hS9k0-iL.css,31MkQHV3gaL.css,314gb2LkLML.css,31dTK1hHb6L.css,014Z+MbaRaL.css,01RRH0yFa4L.css,01bkkYjxP7L.css,31yB+eSvBdL.css,01f31VNCowL.css,01NW8VTUeVL.css,01zWxM9Vh0L.css,011uHgmxBfL.css,41z0SAqMHxL.css,31TbF8vSUbL.css,114HJAY+ShL.css,11Z7S+lK47L.css,21Wf53xZ5jL.css,01kwuiPOKIL.css,41fK6fT1tqL.css,01kymrLkG9L.css,01OhA16ND1L.css,11xmZPMxSJL.css,41Hc3SmVfSL.css,01TZ9fpDSSL.css,21VdWY+J4ML.css,01iXxkJ+wuL.css,11ikU6MX1JL.css,01qwEWNuxuL.css,21B8W4YgK5L.css,11XXguyjjZL.css,31GJfdDW3JL.css,01OHA2P-VJL.css,01ZcdNKBOIL.css,31Tgc2j1suL.css,01AT3O0C6cL.css,01an-V9Fk9L.css,01adN84djtL.css,01goIIPoVxL.css_.css?AUIClients/HardlinesDetailPageMetaAssetVariable_TURBO_DESKTOP#desktop.language-es.es.113788-C.210547-T1.188581-T1.271895-T1.172346-T1.169593-T1.263040-T1.181561-T1\\');\\n    A.preload(\\'https://images-na.ssl-images-amazon.com/images/I/11XQDILn5QL._RC|21AXDqUWwXL.js,11nvztnchvL.js,21E2aIDj6DL.js,21qk2ExEZeL.js,31J4HR6Zu-L.js,01g2etah0NL.js,31Nb5hZQizL.js,21BILr03WKL.js,21xgueFka0L.js,31QOR9nXodL.js,41yydvYMilL.js,11q7hjp4ewL.js,21u1PnPEsML.js,31JUr01gz+L.js,316nVZ1c+gL.js,01AdYLY9rHL.js,01IOMCsVFCL.js,21Fu9j1zRBL.js,21jtT4xJ9VL.js,01TQyo0bnIL.js,11bdX9xnYpL.js,71l-Cj8CpGL.js,0185ITV0M6L.js,41I+tXeHewL.js,31UjTApGOPL.js,01mDj54LSEL.js,01Fy9QPljuL.js,31ve5qgjpPL.js,11oGaoYgbdL.js,01HmcbFsnFL.js,01JzE3-DfLL.js,31sG+M5QN5L.js,11AVRVWTouL.js,11+dypSOVUL.js,01I+ls4AqQL.js,01jqyAujTwL.js,31+0pACITzL.js,01OrQ5AXqsL.js,11DGcrZsUwL.js,01OtvpwikQL.js,31qUdoxPE8L.js,21qOGqjcM7L.js,01S8y9NkxoL.js,01ZF+ovNflL.js,31iuSAu5YqL.js,61dz4UV9DxL.js,01Z-Ip0c4YL.js,013eoEBTVUL.js,21YW9LKF2zL.js,21mymEONFtL.js,61no9IDtPrL.js,21OJDARBhQL.js,41s+OBPxTPL.js,51IiNKR5SOL.js,01IWUb29Q4L.js,01YivelYW5L.js,016QFWAAdML.js,01bFPt5JahL.js,41TtRQbnkPL.js,011bX2ciJbL.js,21222B+rAzL.js,01gp3oqpb5L.js,31abTeO2myL.js,11CIaAZhucL.js,01zM73lDxwL.js,01NKGaW0w5L.js,01rEmdLLpxL.js,019W6kk1gjL.js,01zgbxolsfL.js,01lcH4zcTaL.js,01acYp41-1L.js,01yx6A7MuUL.js,311A0yCIeJL.js,51KlV87LiqL.js,01IC-gBKyYL.js,31r7NSuHzOL.js,01XEEGOr+kL.js,01PQKs49DyL.js,617RxLZ+gsL.js,21rYUjMk16L.js,01OI0RzpxfL.js_.js?AUIClients/SoftlinesDetailPageMetaAsset_TURBO_DESKTOP#desktop.language-es.es.210547-T1.195406-T1.216044-T1.238616-T1.105844-C.279490-T1.235288-T1.232002-T1.187903-T3.200616-T1.280674-T1.234932-T1.184660-C.202285-C.255391-T1.109378-T1.154031-T3.227612-C.253809-T1.254249-T1.278272-T1.224722-T1.169593-T1.181561-T1.217459-T1.187555-T1\\');\\n    A.preload(\\'https://images-na.ssl-images-amazon.com/images/I/61MFlB8C9jL._RC|11bRdV2t20L.css,41j52RQ1GmL.css,210LbiKyCML.css,315GMAwkLiL.css,01ekIXTj5kL.css,210C7n+CEqL.css,01TgljZXzkL.css,11iwHtffX1L.css,01UfR8ATi1L.css,01N8OOpUZPL.css,21UvDaNT8uL.css,21ByukFKG4L.css,01lYrTXt4xL.css,0121zKjk26L.css,21CTcSQ19+L.css,11+KTbhyniL.css,01b9Iu3feKL.css,01D-B-OeNDL.css,31MkQHV3gaL.css,314gb2LkLML.css,01FtAuFRr3L.css,01QLwk8mu6L.css,014Z+MbaRaL.css,01RRH0yFa4L.css,01bkkYjxP7L.css,018mGORJ7tL.css,01NW8VTUeVL.css,01zWxM9Vh0L.css,011uHgmxBfL.css,114HJAY+ShL.css,01wL78bNyyL.css,01MLzcotflL.css,31jrTgUO2GL.css,21Wf53xZ5jL.css,01kwuiPOKIL.css,41fK6fT1tqL.css,01kymrLkG9L.css,01OhA16ND1L.css,21VdWY+J4ML.css,01iXxkJ+wuL.css,01qwEWNuxuL.css,21B8W4YgK5L.css,11XXguyjjZL.css,31GJfdDW3JL.css,01OHA2P-VJL.css,11Z7S+lK47L.css,01AT3O0C6cL.css,31Tgc2j1suL.css,21PVH-GNBWL.css,015FNYa5WbL.css,01goIIPoVxL.css_.css?AUIClients/SoftlinesDetailPageMetaAsset_TURBO_DESKTOP#desktop.es.113788-C.210547-T1.172402-T1.235288-T1.232002-T1.202285-C.215632-C.109378-T1.169593-T1.263040-T1.181561-T1\\');\\n    A.preload(\\'https://images-na.ssl-images-amazon.com/images/I/21E2aIDj6DL._RC|21qk2ExEZeL.js,31J4HR6Zu-L.js,01g2etah0NL.js,31Nb5hZQizL.js,21BILr03WKL.js,21xgueFka0L.js,31QOR9nXodL.js,41yydvYMilL.js,11q7hjp4ewL.js,01Ng0K110HL.js,21JtT0mJXEL.js,31vMFUg376L.js,01TQyo0bnIL.js,11bdX9xnYpL.js,71l-Cj8CpGL.js,0185ITV0M6L.js,41I+tXeHewL.js,31UjTApGOPL.js,01mDj54LSEL.js,01Fy9QPljuL.js,31ve5qgjpPL.js,11oGaoYgbdL.js,01JzE3-DfLL.js,11+dypSOVUL.js,01jqyAujTwL.js,31+0pACITzL.js,01OtvpwikQL.js,31qUdoxPE8L.js,11nOzlnr6+L.js,31r7NSuHzOL.js,31nGeerMTdL.js,11p0nLfNCcL.js,11iHZuQapKL.js,21qOGqjcM7L.js,21AXDqUWwXL.js,11nvztnchvL.js,61dz4UV9DxL.js,013eoEBTVUL.js,21YW9LKF2zL.js,21mymEONFtL.js,61no9IDtPrL.js,21OJDARBhQL.js,41s+OBPxTPL.js,51IiNKR5SOL.js,01IWUb29Q4L.js,016QFWAAdML.js,41TtRQbnkPL.js,019W6kk1gjL.js,01zgbxolsfL.js,01yx6A7MuUL.js,311A0yCIeJL.js,51KlV87LiqL.js,01IC-gBKyYL.js,01PQKs49DyL.js,617RxLZ+gsL.js,21rYUjMk16L.js,01OI0RzpxfL.js_.js?AUIClients/MediaDetailPageMetaAsset_TURBO_DESKTOP#desktop.language-es.es.210547-T1.195406-T1.216044-T1.238616-T1.105844-C.187903-T3.200616-T1.280674-T1.234932-T1.184660-C.255391-T1.109378-T1.154031-T3.227612-C.253809-T1.254249-T1.278272-T1.224722-T1.169593-T1\\');\\n    A.preload(\\'https://images-na.ssl-images-amazon.com/images/I/61MFlB8C9jL._RC|417qBNXt1HL.css,315GMAwkLiL.css,01ekIXTj5kL.css,210C7n+CEqL.css,01TgljZXzkL.css,11iwHtffX1L.css,01UfR8ATi1L.css,21LLdt69ldL.css,21jNhNxHFBL.css,11+KTbhyniL.css,01b9Iu3feKL.css,01D-B-OeNDL.css,31MkQHV3gaL.css,314gb2LkLML.css,01FtAuFRr3L.css,01RRH0yFa4L.css,01bkkYjxP7L.css,01NW8VTUeVL.css,01zWxM9Vh0L.css,011uHgmxBfL.css,01FlII1u-ZL.css,21PVH-GNBWL.css,212hS9k0-iL.css,31TJtSmBkXL.css,21PjfsP9YvL.css,114HJAY+ShL.css,210LbiKyCML.css,31jrTgUO2GL.css,21Wf53xZ5jL.css,01kwuiPOKIL.css,41fK6fT1tqL.css,01kymrLkG9L.css,21VdWY+J4ML.css,01iXxkJ+wuL.css,31Tgc2j1suL.css,01goIIPoVxL.css_.css?AUIClients/MediaDetailPageMetaAsset_TURBO_DESKTOP#desktop.es.113788-C.210547-T1.215632-C.109378-T1.169593-T1.263040-T1\\');\\n    A.preload(\\'https://images-na.ssl-images-amazon.com/images/I/91T0mmiTQDL.js?AUIClients/GestaltDetailPageDesktopMetaAsset\\');\\n    A.preload(\\'https://images-na.ssl-images-amazon.com/images/I/61dz4UV9DxL.js?AUIClients/DetailPageSnSAssets#desktop.105844-C.255391-T1.109378-T1\\');\\n    A.preload(\\'https://images-na.ssl-images-amazon.com/images/I/31jrTgUO2GL.css?AUIClients/DetailPageSnSAssets#215632-C.109378-T1\\');\\n  }\\n});\\n</script>\\n\\n\\n\\n\\n\\n\\n\\n\\n\\n\\n\\n\\n\\n\\n\\n\\n<script type=\"text/javascript\">\\n\\nfunction prefetchTYPAssets() {\\n    var imageAssets = new Array();\\n    var jsCssAssets = new Array();\\n      imageAssets.push(\"https://images-na.ssl-images-amazon.com/images/G/30/x-locale/common/buy-buttons/review-1-click-order._CB485933277_.gif\");\\n      imageAssets.push(\"https://images-na.ssl-images-amazon.com/images/G/30/x-locale/common/buttons/continue-shopping._CB485945571_.gif\");\\n      imageAssets.push(\"https://images-na.ssl-images-amazon.com/images/G/30/x-locale/common/buy-buttons/thank-you-elbow._CB485935931_.gif\");\\n      imageAssets.push(\"https://images-na.ssl-images-amazon.com/images/G/30/x-locale/communities/social/snwicons_v2._CB478838660_.png\");\\n      imageAssets.push(\"https://images-na.ssl-images-amazon.com/images/G/30/checkout/assets/carrot._CB485936846_.gif\");\\n      imageAssets.push(\"https://images-na.ssl-images-amazon.com/images/G/30/gno/sprites/nav-sprite-global_bluebeacon-1x_optimized_layout1._CB468502164_.png\");\\n      imageAssets.push(\"https://images-na.ssl-images-amazon.com/images/G/30/x-locale/common/transparent-pixel._CB485935036_.gif\");\\n\\n    // pre-fetching image assets\\n    for (var i=0; i<imageAssets.length; i++) {\\n       new Image().src = imageAssets[i];\\n    }\\n    // pre-fetching css and js assets based on different browser types\\n    var isIE = /*@cc_on!@*/0;\\n    var isFireFox = /Firefox/.test(navigator.userAgent);\\n    if (isIE) {\\n      for (var i=0; i<jsCssAssets.length; i++) {\\n        new Image().src = jsCssAssets[i];\\n      }\\n    }\\n    else if (isFireFox) {\\n      for (var i=0; i<jsCssAssets.length; i++) {\\n        var o =  document.createElement(\"object\");\\n        o.data = jsCssAssets[i];\\n        o.width = o.height = 0;\\n        document.body.appendChild(o);\\n      }\\n    }\\n}\\n\\n    var onload = function () {\\n        setTimeout(prefetchTYPAssets, 2000);\\n    };\\n    if (window.addEventListener) {\\n        window.addEventListener(\"load\", onload);\\n    } else if (window.attachEvent) { /* for <= IE 8 */\\n        window.attachEvent(\"onload\", onload);\\n    }\\n</script>\\n\\n<input type=\"hidden\" name=\"1click-tsdelta\" id=\"1click-tsdelta\">\\n<script type=\"text/javascript\">\\nvar ocInitTimestamp = 1595609716;\\n</script>\\n\\n\\n\\n\\n\\n\\n\\n\\n            \\n            \\n\\n\\n\\n\\n\\n\\n\\n\\n\\n  </div>\\n\\n  </div>\\n    </div></body>\\n      </html>\\n\\n\\n\\n\\n\\n\\n\\n\\n\\n\\n\\n\\n\\n'"
     },
     "metadata": {},
     "execution_count": 280
    }
   ],
   "source": [
    "page_html = uamazon.read()\n",
    "page_html"
   ]
  },
  {
   "cell_type": "code",
   "execution_count": 286,
   "metadata": {},
   "outputs": [
    {
     "output_type": "execute_result",
     "data": {
      "text/plain": "[]"
     },
     "metadata": {},
     "execution_count": 286
    }
   ],
   "source": [
    "page_html = soup(page_html, 'html.parser')\n",
    "page_html"
   ]
  },
  {
   "cell_type": "code",
   "execution_count": 45,
   "metadata": {},
   "outputs": [],
   "source": [
    "import requests\n",
    "from bs4 import BeautifulSoup\n",
    "import smtplib"
   ]
  },
  {
   "cell_type": "code",
   "execution_count": 46,
   "metadata": {},
   "outputs": [],
   "source": [
    "headers = {\n",
    "    \"User-agent\": 'Mozilla/5.0 (X11; Linux x86_64) AppleWebKit/537.36 (KHTML, like Gecko) Chrome/79.0.3945.130 Safari/537.36'}"
   ]
  },
  {
   "cell_type": "code",
   "execution_count": 48,
   "metadata": {},
   "outputs": [],
   "source": [
    "URL = 'https://www.amazon.de/gp/product/B0756CYWWD/ref=as_li_tl?ie=UTF8&tag=idk01e-21&camp=1638&creative=6742&linkCode=as2&creativeASIN=B0756CYWWD&linkId=18730d371b945bad11e9ea58ab9d8b32' #PRUEBA3\n"
   ]
  },
  {
   "cell_type": "code",
   "execution_count": 50,
   "metadata": {},
   "outputs": [
    {
     "output_type": "error",
     "ename": "AttributeError",
     "evalue": "'NoneType' object has no attribute 'get_text'",
     "traceback": [
      "\u001b[0;31m---------------------------------------------------------------------------\u001b[0m",
      "\u001b[0;31mAttributeError\u001b[0m                            Traceback (most recent call last)",
      "\u001b[0;32m<ipython-input-50-db6bc348c59b>\u001b[0m in \u001b[0;36m<module>\u001b[0;34m\u001b[0m\n\u001b[1;32m     14\u001b[0m     \u001b[0mprint\u001b[0m\u001b[0;34m(\u001b[0m\u001b[0mconverted_price\u001b[0m\u001b[0;34m)\u001b[0m\u001b[0;34m\u001b[0m\u001b[0;34m\u001b[0m\u001b[0m\n\u001b[1;32m     15\u001b[0m \u001b[0;34m\u001b[0m\u001b[0m\n\u001b[0;32m---> 16\u001b[0;31m \u001b[0mamazon\u001b[0m\u001b[0;34m(\u001b[0m\u001b[0;34m)\u001b[0m\u001b[0;34m\u001b[0m\u001b[0;34m\u001b[0m\u001b[0m\n\u001b[0m",
      "\u001b[0;32m<ipython-input-50-db6bc348c59b>\u001b[0m in \u001b[0;36mamazon\u001b[0;34m()\u001b[0m\n\u001b[1;32m      4\u001b[0m     \u001b[0msoup\u001b[0m \u001b[0;34m=\u001b[0m \u001b[0mBeautifulSoup\u001b[0m\u001b[0;34m(\u001b[0m\u001b[0mpage\u001b[0m\u001b[0;34m.\u001b[0m\u001b[0mcontent\u001b[0m\u001b[0;34m,\u001b[0m \u001b[0;34m'html.parser'\u001b[0m\u001b[0;34m)\u001b[0m\u001b[0;34m\u001b[0m\u001b[0;34m\u001b[0m\u001b[0m\n\u001b[1;32m      5\u001b[0m \u001b[0;34m\u001b[0m\u001b[0m\n\u001b[0;32m----> 6\u001b[0;31m     \u001b[0mtitle\u001b[0m \u001b[0;34m=\u001b[0m \u001b[0msoup\u001b[0m\u001b[0;34m.\u001b[0m\u001b[0mfind\u001b[0m\u001b[0;34m(\u001b[0m\u001b[0mid\u001b[0m\u001b[0;34m=\u001b[0m\u001b[0;34m\"productTitle\"\u001b[0m\u001b[0;34m)\u001b[0m\u001b[0;34m.\u001b[0m\u001b[0mget_text\u001b[0m\u001b[0;34m(\u001b[0m\u001b[0;34m)\u001b[0m\u001b[0;34m\u001b[0m\u001b[0;34m\u001b[0m\u001b[0m\n\u001b[0m\u001b[1;32m      7\u001b[0m     \u001b[0mprice\u001b[0m \u001b[0;34m=\u001b[0m \u001b[0msoup\u001b[0m\u001b[0;34m.\u001b[0m\u001b[0mfind\u001b[0m\u001b[0;34m(\u001b[0m\u001b[0mid\u001b[0m\u001b[0;34m=\u001b[0m\u001b[0;34m\"priceblock_ourprice\"\u001b[0m\u001b[0;34m)\u001b[0m\u001b[0;34m.\u001b[0m\u001b[0mget_text\u001b[0m\u001b[0;34m(\u001b[0m\u001b[0;34m)\u001b[0m\u001b[0;34m\u001b[0m\u001b[0;34m\u001b[0m\u001b[0m\n\u001b[1;32m      8\u001b[0m     \u001b[0msep\u001b[0m \u001b[0;34m=\u001b[0m \u001b[0;34m','\u001b[0m\u001b[0;34m\u001b[0m\u001b[0;34m\u001b[0m\u001b[0m\n",
      "\u001b[0;31mAttributeError\u001b[0m: 'NoneType' object has no attribute 'get_text'"
     ]
    }
   ],
   "source": [
    "def amazon():\n",
    "    page = requests.get(URL, headers=headers)\n",
    "\n",
    "    soup = BeautifulSoup(page.content, 'html.parser')\n",
    "\n",
    "    title = soup.find(id=\"productTitle\").get_text()\n",
    "    price = soup.find(id=\"priceblock_ourprice\").get_text()\n",
    "    sep = ','\n",
    "    con_price = price.split(sep, 1)[0]\n",
    "    converted_price = int(con_price.replace('.', ''))\n",
    "\n",
    "    # price\n",
    "    print(title.strip())\n",
    "    print(converted_price)\n",
    "\n",
    "amazon()"
   ]
  },
  {
   "cell_type": "code",
   "execution_count": null,
   "metadata": {},
   "outputs": [],
   "source": []
  }
 ],
 "metadata": {
  "language_info": {
   "codemirror_mode": {
    "name": "ipython",
    "version": 3
   },
   "file_extension": ".py",
   "mimetype": "text/x-python",
   "name": "python",
   "nbconvert_exporter": "python",
   "pygments_lexer": "ipython3",
   "version": 3
  },
  "orig_nbformat": 2,
  "kernelspec": {
   "name": "python_defaultSpec_1595512185701",
   "display_name": "Python 3.6.4 64-bit"
  }
 },
 "nbformat": 4,
 "nbformat_minor": 2
}